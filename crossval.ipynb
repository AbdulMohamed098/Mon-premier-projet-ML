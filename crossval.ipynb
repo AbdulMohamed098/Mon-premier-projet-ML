{
 "cells": [
  {
   "cell_type": "code",
   "execution_count": 73,
   "metadata": {},
   "outputs": [],
   "source": [
    "import pandas as pd\n",
    "import numpy as np\n",
    "from warnings import filterwarnings\n",
    "filterwarnings(\"ignore\")"
   ]
  },
  {
   "cell_type": "code",
   "execution_count": 74,
   "metadata": {},
   "outputs": [
    {
     "data": {
      "text/html": [
       "<div>\n",
       "<style scoped>\n",
       "    .dataframe tbody tr th:only-of-type {\n",
       "        vertical-align: middle;\n",
       "    }\n",
       "\n",
       "    .dataframe tbody tr th {\n",
       "        vertical-align: top;\n",
       "    }\n",
       "\n",
       "    .dataframe thead th {\n",
       "        text-align: right;\n",
       "    }\n",
       "</style>\n",
       "<table border=\"1\" class=\"dataframe\">\n",
       "  <thead>\n",
       "    <tr style=\"text-align: right;\">\n",
       "      <th></th>\n",
       "      <th>sepal_length</th>\n",
       "      <th>sepal_width</th>\n",
       "      <th>petal_length</th>\n",
       "      <th>petal_width</th>\n",
       "      <th>species</th>\n",
       "    </tr>\n",
       "  </thead>\n",
       "  <tbody>\n",
       "    <tr>\n",
       "      <th>0</th>\n",
       "      <td>5.1</td>\n",
       "      <td>3.5</td>\n",
       "      <td>1.4</td>\n",
       "      <td>0.2</td>\n",
       "      <td>setosa</td>\n",
       "    </tr>\n",
       "    <tr>\n",
       "      <th>1</th>\n",
       "      <td>4.9</td>\n",
       "      <td>3.0</td>\n",
       "      <td>1.4</td>\n",
       "      <td>0.2</td>\n",
       "      <td>setosa</td>\n",
       "    </tr>\n",
       "    <tr>\n",
       "      <th>2</th>\n",
       "      <td>4.7</td>\n",
       "      <td>3.2</td>\n",
       "      <td>1.3</td>\n",
       "      <td>0.2</td>\n",
       "      <td>setosa</td>\n",
       "    </tr>\n",
       "    <tr>\n",
       "      <th>3</th>\n",
       "      <td>4.6</td>\n",
       "      <td>3.1</td>\n",
       "      <td>1.5</td>\n",
       "      <td>0.2</td>\n",
       "      <td>setosa</td>\n",
       "    </tr>\n",
       "    <tr>\n",
       "      <th>4</th>\n",
       "      <td>5.0</td>\n",
       "      <td>3.6</td>\n",
       "      <td>1.4</td>\n",
       "      <td>0.2</td>\n",
       "      <td>setosa</td>\n",
       "    </tr>\n",
       "  </tbody>\n",
       "</table>\n",
       "</div>"
      ],
      "text/plain": [
       "   sepal_length  sepal_width  petal_length  petal_width species\n",
       "0           5.1          3.5           1.4          0.2  setosa\n",
       "1           4.9          3.0           1.4          0.2  setosa\n",
       "2           4.7          3.2           1.3          0.2  setosa\n",
       "3           4.6          3.1           1.5          0.2  setosa\n",
       "4           5.0          3.6           1.4          0.2  setosa"
      ]
     },
     "execution_count": 74,
     "metadata": {},
     "output_type": "execute_result"
    }
   ],
   "source": [
    "df = pd.read_csv(\"iris.csv\")\n",
    "df.head(5)"
   ]
  },
  {
   "cell_type": "code",
   "execution_count": 75,
   "metadata": {},
   "outputs": [],
   "source": [
    "X = df.drop(\"species\", axis=1)\n",
    "y = df[\"species\"]"
   ]
  },
  {
   "cell_type": "code",
   "execution_count": 76,
   "metadata": {},
   "outputs": [],
   "source": [
    "from sklearn.model_selection import cross_val_score, KFold, StratifiedKFold, LeaveOneOut\n",
    "from sklearn.linear_model import LogisticRegression"
   ]
  },
  {
   "cell_type": "markdown",
   "metadata": {},
   "source": [
    "* Simple validation croisée: Permet de croiser avec les parametres par defaut"
   ]
  },
  {
   "cell_type": "code",
   "execution_count": 77,
   "metadata": {},
   "outputs": [],
   "source": [
    "logreg = LogisticRegression()\n",
    "sc1 = cross_val_score(logreg, X, y)"
   ]
  },
  {
   "cell_type": "code",
   "execution_count": 78,
   "metadata": {},
   "outputs": [],
   "source": [
    "def cvs(scor, nom):\n",
    "    print(f\"Model : {nom}\\nMoyenne des cross validation scores:{np.round(scor.mean(), 4)}\")"
   ]
  },
  {
   "cell_type": "code",
   "execution_count": 79,
   "metadata": {},
   "outputs": [],
   "source": [
    "kfold = KFold(n_splits = 5)\n",
    "sc2 = cross_val_score(logreg, X, y, cv=kfold)"
   ]
  },
  {
   "cell_type": "code",
   "execution_count": 80,
   "metadata": {},
   "outputs": [],
   "source": [
    "stra_kfold = StratifiedKFold(n_splits = 5) # Pour preserver la repartition des classes (Seulement sur les classification)\n",
    "sc21 = cross_val_score(logreg, X, y, cv= stra_kfold)"
   ]
  },
  {
   "cell_type": "code",
   "execution_count": 81,
   "metadata": {},
   "outputs": [
    {
     "data": {
      "text/plain": [
       "150"
      ]
     },
     "execution_count": 81,
     "metadata": {},
     "output_type": "execute_result"
    }
   ],
   "source": [
    "loo = LeaveOneOut()\n",
    "sc3 = cross_val_score(logreg, X, y, cv=loo)\n",
    "len(sc3)"
   ]
  },
  {
   "cell_type": "code",
   "execution_count": 82,
   "metadata": {},
   "outputs": [],
   "source": [
    "models = {\"Cross_val_ simple\": sc1,\n",
    "          \"Cross_val avec Kfold\": sc2,\n",
    "          \"Cross_val avec stratified kfold\": sc21,\n",
    "          \"Cross_val avec LOO\": sc3\n",
    "          }"
   ]
  },
  {
   "cell_type": "code",
   "execution_count": 83,
   "metadata": {},
   "outputs": [
    {
     "name": "stdout",
     "output_type": "stream",
     "text": [
      "Model : Cross_val_ simple\n",
      "Moyenne des cross validation scores:0.9733\n",
      "Model : Cross_val avec Kfold\n",
      "Moyenne des cross validation scores:0.9267\n",
      "Model : Cross_val avec stratified kfold\n",
      "Moyenne des cross validation scores:0.9733\n",
      "Model : Cross_val avec LOO\n",
      "Moyenne des cross validation scores:0.9667\n"
     ]
    }
   ],
   "source": [
    "for model in models.items():\n",
    "    cvs(model[1], model[0])"
   ]
  },
  {
   "cell_type": "markdown",
   "metadata": {},
   "source": [
    "* Avec shuffle"
   ]
  },
  {
   "cell_type": "code",
   "execution_count": 84,
   "metadata": {},
   "outputs": [],
   "source": [
    "models_shuffle = {\"Cross_val avec Kfold\": cross_val_score(logreg, X, y, cv=KFold(n_splits = 5, shuffle = True, random_state= 101)),\n",
    "          \"Cross_val avec stratified kfold\": cross_val_score(logreg, X, y, cv=StratifiedKFold(n_splits = 5, shuffle = True, random_state= 101)),\n",
    "          }"
   ]
  },
  {
   "cell_type": "code",
   "execution_count": 85,
   "metadata": {},
   "outputs": [
    {
     "name": "stdout",
     "output_type": "stream",
     "text": [
      "Les splits avec shuffle\n",
      "Model : Cross_val avec Kfold\n",
      "Moyenne des cross validation scores:0.96\n",
      "Model : Cross_val avec stratified kfold\n",
      "Moyenne des cross validation scores:0.9667\n"
     ]
    }
   ],
   "source": [
    "print(\"Les splits avec shuffle\")\n",
    "for model in models_shuffle.items():\n",
    "    cvs(model[1], model[0])"
   ]
  },
  {
   "cell_type": "code",
   "execution_count": 86,
   "metadata": {},
   "outputs": [],
   "source": [
    "from sklearn.model_selection import ShuffleSplit, StratifiedShuffleSplit"
   ]
  },
  {
   "cell_type": "code",
   "execution_count": 87,
   "metadata": {},
   "outputs": [],
   "source": [
    "sss = StratifiedShuffleSplit(n_splits =10, test_size = .5, train_size = .5, random_state = 101)\n",
    "ss = ShuffleSplit(n_splits=10, test_size = .5, train_size = .5, random_state=101)\n",
    "sc4 = cross_val_score(logreg, X, y, cv = ss)\n",
    "sc5 = cross_val_score(logreg, X, y, cv = sss)"
   ]
  },
  {
   "cell_type": "code",
   "execution_count": 88,
   "metadata": {},
   "outputs": [
    {
     "name": "stdout",
     "output_type": "stream",
     "text": [
      "Model : ShuffleSplit\n",
      "Moyenne des cross validation scores:0.9533\n"
     ]
    }
   ],
   "source": [
    "cvs(sc4, \"ShuffleSplit\")"
   ]
  },
  {
   "cell_type": "code",
   "execution_count": 89,
   "metadata": {},
   "outputs": [
    {
     "name": "stdout",
     "output_type": "stream",
     "text": [
      "Model : StratifiedShuffleSplit\n",
      "Moyenne des cross validation scores:0.96\n"
     ]
    }
   ],
   "source": [
    "cvs(sc5, \"StratifiedShuffleSplit\")"
   ]
  },
  {
   "cell_type": "markdown",
   "metadata": {},
   "source": [
    "* Validation croisé avec groupe:"
   ]
  },
  {
   "cell_type": "code",
   "execution_count": 91,
   "metadata": {},
   "outputs": [],
   "source": [
    "from sklearn.model_selection import GroupKFold, LeaveOneGroupOut, LeavePGroupsOut, StratifiedGroupKFold\n",
    "from sklearn.datasets import make_classification"
   ]
  },
  {
   "cell_type": "code",
   "execution_count": 101,
   "metadata": {},
   "outputs": [],
   "source": [
    "# Generer les données simulées\n",
    "X1, y1 = make_classification(n_samples=10000, n_features = 10, random_state = 101)\n",
    "groups = np.random.randint(0, 10, size = 10000)"
   ]
  },
  {
   "cell_type": "code",
   "execution_count": 102,
   "metadata": {},
   "outputs": [],
   "source": [
    "gkfold = GroupKFold(n_splits = 5)\n",
    "sc6 = cross_val_score(logreg, X1, y1, cv = gkfold, groups = groups)"
   ]
  },
  {
   "cell_type": "code",
   "execution_count": 106,
   "metadata": {},
   "outputs": [],
   "source": [
    "logo = LeaveOneGroupOut()\n",
    "lpgo = LeavePGroupsOut(n_groups = 2)\n",
    "sgfold = StratifiedGroupKFold(n_splits = 5)\n",
    "sc7 = cross_val_score(logreg, X1, y1, cv = logo, groups = groups)\n",
    "sc8 = cross_val_score(logreg, X1, y1, cv = lpgo, groups = groups)\n",
    "sc9 = cross_val_score(logreg, X1, y1, cv = sgfold, groups = groups)"
   ]
  },
  {
   "cell_type": "code",
   "execution_count": 107,
   "metadata": {},
   "outputs": [],
   "source": [
    "modls = {\"GroupKFold\": sc6,\n",
    "         \"LeaveOneGroupOut\": sc7,\n",
    "         \"LeaveOneGroupOut\": sc8,\n",
    "         \"StratifiedGroupKFold\": sc9\n",
    "         }"
   ]
  },
  {
   "cell_type": "code",
   "execution_count": 109,
   "metadata": {},
   "outputs": [
    {
     "name": "stdout",
     "output_type": "stream",
     "text": [
      "Model : GroupKFold\n",
      "Moyenne des cross validation scores:0.8365\n",
      "Model : LeaveOneGroupOut\n",
      "Moyenne des cross validation scores:0.8363\n",
      "Model : StratifiedGroupKFold\n",
      "Moyenne des cross validation scores:0.8365\n"
     ]
    }
   ],
   "source": [
    "for model in modls.items():\n",
    "    cvs(model[1], model[0])"
   ]
  },
  {
   "cell_type": "code",
   "execution_count": null,
   "metadata": {},
   "outputs": [],
   "source": []
  }
 ],
 "metadata": {
  "kernelspec": {
   "display_name": "Python 3",
   "language": "python",
   "name": "python3"
  },
  "language_info": {
   "codemirror_mode": {
    "name": "ipython",
    "version": 3
   },
   "file_extension": ".py",
   "mimetype": "text/x-python",
   "name": "python",
   "nbconvert_exporter": "python",
   "pygments_lexer": "ipython3",
   "version": "3.12.5"
  }
 },
 "nbformat": 4,
 "nbformat_minor": 2
}
